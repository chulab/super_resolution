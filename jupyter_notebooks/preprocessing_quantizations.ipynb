{
 "cells": [
  {
   "cell_type": "code",
   "execution_count": 1,
   "metadata": {},
   "outputs": [],
   "source": [
    "import numpy as np\n",
    "import matplotlib.pyplot as plt\n",
    "from mpl_toolkits.axes_grid1 import make_axes_locatable\n",
    "\n",
    "import sys\n",
    "import os"
   ]
  },
  {
   "cell_type": "code",
   "execution_count": 2,
   "metadata": {},
   "outputs": [],
   "source": [
    "import tensorflow as tf\n",
    "tf.enable_eager_execution()"
   ]
  },
  {
   "cell_type": "code",
   "execution_count": 3,
   "metadata": {},
   "outputs": [],
   "source": [
    "sys.path.insert(0, \"/Users/noah/Documents/CHU/super_resolution/super_resolution/\")"
   ]
  },
  {
   "cell_type": "code",
   "execution_count": 4,
   "metadata": {},
   "outputs": [],
   "source": [
    "from training_data import record_utils\n",
    "from training_data import convert_to_envelope\n",
    "from preprocessing import preprocess\n",
    "from trainer import loss_utils"
   ]
  },
  {
   "cell_type": "code",
   "execution_count": 5,
   "metadata": {},
   "outputs": [],
   "source": [
    "envelope_file = \"/Users/noah/Documents/CHU/super_resolution/test_data/3_18_envelope/simulation_circle_3_18_envelope_train_simulation_0000102.tfrecord\"\n",
    "examples_envelope = convert_to_envelope.tfrecord_to_example(envelope_file)\n"
   ]
  },
  {
   "cell_type": "code",
   "execution_count": 31,
   "metadata": {
    "scrolled": false
   },
   "outputs": [
    {
     "data": {
      "text/plain": [
       "<matplotlib.image.AxesImage at 0x1279d1f28>"
      ]
     },
     "execution_count": 31,
     "metadata": {},
     "output_type": "execute_result"
    },
    {
     "data": {
      "image/png": "[encoded data removed]",
      "text/plain": [
       "<Figure size 720x2160 with 2 Axes>"
      ]
     },
     "metadata": {
      "needs_background": "light"
     },
     "output_type": "display_data"
    }
   ],
   "source": [
    "i = 7\n",
    "envelope_distribution = examples_envelope[i][0]\n",
    "envelope_observation = examples_envelope[i][1]\n",
    "scatterer_count = np.sum(envelope_distribution)\n",
    "fig, ax = plt.subplots(1, 2, figsize=(10,30))\n",
    "ax[0].imshow(envelope_distribution)\n",
    "ax[1].imshow(envelope_observation[8, ..., 0])"
   ]
  },
  {
   "cell_type": "code",
   "execution_count": 19,
   "metadata": {},
   "outputs": [],
   "source": []
  },
  {
   "cell_type": "code",
   "execution_count": 23,
   "metadata": {},
   "outputs": [
    {
     "name": "stdout",
     "output_type": "stream",
     "text": [
      "max val 15.000001\n",
      "sum 1277.0\n",
      "max val 18.0\n",
      "sum 773.0\n",
      "max val 17.0\n",
      "sum 1021.0\n",
      "max val 19.0\n",
      "sum 993.0\n",
      "max val 4.0\n",
      "sum 111.0\n",
      "max val 17.0\n",
      "sum 1025.0\n",
      "max val 13.0\n",
      "sum 455.0\n",
      "max val 0.0\n",
      "sum 0.0\n",
      "max val 11.0\n",
      "sum 175.0\n",
      "max val 12.0\n",
      "sum 206.0\n"
     ]
    }
   ],
   "source": [
    "max_vals = []\n",
    "average_vals = []\n",
    "distribution_pool_downsample = 30\n",
    "\n",
    "for i in range(10):\n",
    "    envelope_distribution_base = tf.convert_to_tensor(examples_envelope[i][0])\n",
    "    envelope_observation_base = tf.convert_to_tensor(examples_envelope[i][1])\n",
    "    envelope_distribution, envelope_observation=preprocess.select_frequency(0)(envelope_distribution_base, envelope_observation_base)\n",
    "    envelope_distribution = envelope_distribution[tf.newaxis, ..., tf.newaxis]\n",
    "    envelope_distribution = tf.keras.layers.AveragePooling2D(distribution_pool_downsample).apply(envelope_distribution) * (\n",
    "      distribution_pool_downsample ** 2)\n",
    "    envelope_distribution = envelope_distribution[..., 0]\n",
    "    print(\"max val\", np.amax(envelope_distribution))\n",
    "    max_vals.append(np.amax(envelope_distribution))\n",
    "    print(\"sum\", np.sum(envelope_distribution))\n",
    "    average_vals.append(np.mean(envelope_distribution))"
   ]
  },
  {
   "cell_type": "code",
   "execution_count": 27,
   "metadata": {},
   "outputs": [
    {
     "data": {
      "text/plain": [
       "(array([1., 0., 1., 0., 0., 1., 2., 1., 2., 2.]),\n",
       " array([ 0. ,  1.9,  3.8,  5.7,  7.6,  9.5, 11.4, 13.3, 15.2, 17.1, 19. ],\n",
       "       dtype=float32),\n",
       " <a list of 10 Patch objects>)"
      ]
     },
     "execution_count": 27,
     "metadata": {},
     "output_type": "execute_result"
    },
    {
     "data": {
      "image/png": "[encoded data removed]",
      "text/plain": [
       "<Figure size 432x288 with 1 Axes>"
      ]
     },
     "metadata": {
      "needs_background": "light"
     },
     "output_type": "display_data"
    }
   ],
   "source": [
    "plt.hist(max_vals)"
   ]
  },
  {
   "cell_type": "code",
   "execution_count": 25,
   "metadata": {
    "scrolled": true
   },
   "outputs": [
    {
     "data": {
      "text/plain": [
       "16"
      ]
     },
     "execution_count": 25,
     "metadata": {},
     "output_type": "execute_result"
    }
   ],
   "source": [
    "2 ** 4"
   ]
  },
  {
   "cell_type": "code",
   "execution_count": 11,
   "metadata": {},
   "outputs": [
    {
     "name": "stdout",
     "output_type": "stream",
     "text": [
      "(1, 50, 50, 8)\n"
     ]
    }
   ],
   "source": [
    "bit_depth=3\n",
    "distributions_quantized = loss_utils.quantize_tensor(\n",
    "    envelope_distribution, bit_depth, 0., 2**bit_depth)\n",
    "print(distributions_quantized.shape)\n",
    "def _logit_to_class(logit):\n",
    "  return tf.argmax(logit, -1)\n",
    "distribution_class = _logit_to_class(distributions_quantized)"
   ]
  },
  {
   "cell_type": "code",
   "execution_count": 12,
   "metadata": {},
   "outputs": [
    {
     "name": "stdout",
     "output_type": "stream",
     "text": [
      "Real scatterer count 1093.0\n",
      "quantized scatterer count 1087\n"
     ]
    },
    {
     "data": {
      "image/png": "[encoded data removed]",
      "text/plain": [
       "<Figure size 720x2160 with 2 Axes>"
      ]
     },
     "metadata": {
      "needs_background": "light"
     },
     "output_type": "display_data"
    }
   ],
   "source": [
    "fig, ax = plt.subplots(1, 1, figsize=(10,30))\n",
    "im = ax.imshow(distribution_class[0, ...])\n",
    "divider = make_axes_locatable(ax)\n",
    "cax = divider.append_axes(\"right\", size=\"5%\", pad=0.05)\n",
    "plt.colorbar(im, cax=cax)\n",
    "print(\"Real scatterer count {}\".format(scatterer_count))\n",
    "print(\"quantized scatterer count {}\".format(np.sum(distribution_class)))"
   ]
  },
  {
   "cell_type": "code",
   "execution_count": null,
   "metadata": {},
   "outputs": [],
   "source": []
  },
  {
   "cell_type": "code",
   "execution_count": null,
   "metadata": {},
   "outputs": [],
   "source": [
    "tf.contrib.training.HParams(\n",
    "    distribution_pool_downsample='',\n",
    "    \n",
    "  )"
   ]
  },
  {
   "cell_type": "code",
   "execution_count": null,
   "metadata": {},
   "outputs": [],
   "source": [
    "params=[\n",
    "\n",
    "]\n",
    "\n",
    "observations, distributions=gpu_preprocess(single_frequency_observations[np.newaxis, ...], envelope_distribution[np.newaxis, ...])"
   ]
  },
  {
   "cell_type": "code",
   "execution_count": null,
   "metadata": {},
   "outputs": [],
   "source": []
  }
 ],
 "metadata": {
  "kernelspec": {
   "display_name": "Python 3",
   "language": "python",
   "name": "python3"
  },
  "language_info": {
   "codemirror_mode": {
    "name": "ipython",
    "version": 3
   },
   "file_extension": ".py",
   "mimetype": "text/x-python",
   "name": "python",
   "nbconvert_exporter": "python",
   "pygments_lexer": "ipython3",
   "version": "3.6.7"
  }
 },
 "nbformat": 4,
 "nbformat_minor": 2
}
